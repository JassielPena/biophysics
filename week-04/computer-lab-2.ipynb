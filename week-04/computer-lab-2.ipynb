{
 "cells": [
  {
   "cell_type": "markdown",
   "id": "b7cf91a4",
   "metadata": {},
   "source": [
    "# Computer Lab 2\n",
    "\n",
    "Work through the \"Second Computer Lab\" (Chapter 7) in _A Student's Guide to Python._  This exercise illustrates how to carry out \"numerical experiments\" to explore theoretical models.\n",
    "\n",
    "You can use this notebook to store your code, plots, and notes, or you can write a ___script___ (see Section 3.3) that will carry out the analysis and produce the plots, and simply write your comments and observations in this notebook.  If you write a script, it should save your plot with the data and your best fit to a PDF, JPG, or PNG in this folder when it runs."
   ]
  },
  {
   "cell_type": "markdown",
   "id": "177fe072",
   "metadata": {},
   "source": [
    "## 7.1 Generating and Plotting Trajectories"
   ]
  },
  {
   "cell_type": "code",
   "execution_count": 1,
   "id": "349c93c0",
   "metadata": {},
   "outputs": [],
   "source": [
    "# Standard setup\n",
    "import numpy as np\n",
    "import matplotlib.pyplot as plt\n",
    "\n",
    "# Create a random number generator\n",
    "from numpy.random import default_rng\n",
    "rng = default_rng()\n",
    "\n",
    "# Draw from the Uniform Distribution\n",
    "rand = rng.random"
   ]
  },
  {
   "cell_type": "code",
   "execution_count": 2,
   "id": "3153528d",
   "metadata": {},
   "outputs": [],
   "source": [
    "num_steps = 1000\n",
    "\n",
    "x_steps = 2*(rand(num_steps) < 0.5) - 1\n",
    "y_steps = 2*(rand(num_steps) < 0.5) - 1\n",
    "\n",
    "#This creates an array of 1000 elements that are either 1 or -1, does not them up as they go"
   ]
  },
  {
   "cell_type": "markdown",
   "id": "5b5831c7",
   "metadata": {},
   "source": [
    "a."
   ]
  },
  {
   "cell_type": "markdown",
   "id": "85d78baf",
   "metadata": {},
   "source": [
    "num_steps = 1000\n",
    "\n",
    "x_steps = np.zeros(num_steps)\n",
    "\n",
    "for n in range(num_steps):\n",
    "    Movement = 2*(rand(1) < 0.5) - 1\n",
    "    \n",
    "    if Movement == 1:\n",
    "        x_steps[n] = x_steps[n - 1] + 1\n",
    "        \n",
    "    if Movement == -1: \n",
    "        x_steps[n] = x_steps[n - 1] + -1\n",
    "        \n",
    "print(x_steps)"
   ]
  },
  {
   "cell_type": "code",
   "execution_count": 47,
   "id": "925581d8",
   "metadata": {
    "scrolled": false
   },
   "outputs": [
    {
     "data": {
      "image/png": "[encoded data removed]",
      "text/plain": [
       "<Figure size 432x288 with 1 Axes>"
      ]
     },
     "metadata": {
      "needs_background": "light"
     },
     "output_type": "display_data"
    }
   ],
   "source": [
    "num_steps = 1000\n",
    "\n",
    "x_steps = np.zeros(num_steps)\n",
    "\n",
    "for n in range(num_steps):\n",
    "    x_Movement = 2*(rand(1) < 0.5) - 1\n",
    "    \n",
    "    if x_Movement == 1:\n",
    "        x_steps[n] = x_steps[n - 1] + 1\n",
    "        \n",
    "    if x_Movement == -1: \n",
    "        x_steps[n] = x_steps[n - 1] + -1\n",
    "\n",
    "y_steps = np.zeros(num_steps)\n",
    "\n",
    "for n in range(num_steps):\n",
    "    y_Movement = 2*(rand(1) < 0.5) - 1\n",
    "    \n",
    "    if y_Movement == 1:\n",
    "        y_steps[n] = y_steps[n - 1] + 1\n",
    "        \n",
    "    if y_Movement == -1: \n",
    "        y_steps[n] = y_steps[n - 1] + -1\n",
    "\n",
    "plt.plot(x_steps, y_steps,'ro')\n",
    "plt.axis('equal')\n",
    "\n",
    "plt.xlabel('x_steps')\n",
    "plt.ylabel('y_steps')\n",
    "plt.title('Random Walk')\n",
    "\n",
    "plt.show()"
   ]
  },
  {
   "cell_type": "code",
   "execution_count": null,
   "id": "474bf6b7",
   "metadata": {
    "scrolled": false
   },
   "outputs": [],
   "source": [
    "help(plt.axis)\n",
    "\n",
    "help(plt.xlim)"
   ]
  },
  {
   "cell_type": "markdown",
   "id": "3d48bfb1",
   "metadata": {},
   "source": [
    "b."
   ]
  },
  {
   "cell_type": "code",
   "execution_count": 8,
   "id": "c388f56a",
   "metadata": {},
   "outputs": [],
   "source": [
    "num_steps = 1000\n",
    "\n",
    "x_steps1 = np.zeros(num_steps)\n",
    "y_steps1 = np.zeros(num_steps)\n",
    "\n",
    "for n in range(num_steps):\n",
    "    x_Movement = 2*(rand(1) < 0.5) - 1\n",
    "    y_Movement = 2*(rand(1) < 0.5) - 1\n",
    "\n",
    "    if x_Movement == 1:\n",
    "        x_steps1[n] = x_steps1[n - 1] + 1\n",
    "\n",
    "    if x_Movement == -1: \n",
    "        x_steps1[n] = x_steps1[n - 1] + -1\n",
    "        \n",
    "    if y_Movement == 1:\n",
    "        y_steps1[n] = y_steps1[n - 1] + 1\n",
    "\n",
    "    if y_Movement == -1: \n",
    "        y_steps1[n] = y_steps1[n - 1] + -1\n",
    "        \n",
    "x_steps2 = np.zeros(num_steps)\n",
    "y_steps2 = np.zeros(num_steps)\n",
    "\n",
    "for n in range(num_steps):\n",
    "    x_Movement = 2*(rand(1) < 0.5) - 1\n",
    "    y_Movement = 2*(rand(1) < 0.5) - 1\n",
    "\n",
    "    if x_Movement == 1:\n",
    "        x_steps2[n] = x_steps2[n - 1] + 1\n",
    "\n",
    "    if x_Movement == -1: \n",
    "        x_steps2[n] = x_steps2[n - 1] + -1\n",
    "        \n",
    "    if y_Movement == 1:\n",
    "        y_steps2[n] = y_steps2[n - 1] + 1\n",
    "\n",
    "    if y_Movement == -1: \n",
    "        y_steps2[n] = y_steps2[n - 1] + -1\n",
    "\n",
    "x_steps3 = np.zeros(num_steps)\n",
    "y_steps3 = np.zeros(num_steps)\n",
    "\n",
    "for n in range(num_steps):\n",
    "    x_Movement = 2*(rand(1) < 0.5) - 1\n",
    "    y_Movement = 2*(rand(1) < 0.5) - 1\n",
    "\n",
    "    if x_Movement == 1:\n",
    "        x_steps3[n] = x_steps3[n - 1] + 1\n",
    "\n",
    "    if x_Movement == -1: \n",
    "        x_steps3[n] = x_steps3[n - 1] + -1\n",
    "        \n",
    "    if y_Movement == 1:\n",
    "        y_steps3[n] = y_steps3[n - 1] + 1\n",
    "\n",
    "    if y_Movement == -1: \n",
    "        y_steps3[n] = y_steps3[n - 1] + -1\n",
    "\n",
    "x_steps4 = np.zeros(num_steps)\n",
    "y_steps4 = np.zeros(num_steps)\n",
    "\n",
    "for n in range(num_steps):\n",
    "    x_Movement = 2*(rand(1) < 0.5) - 1\n",
    "    y_Movement = 2*(rand(1) < 0.5) - 1\n",
    "\n",
    "    if x_Movement == 1:\n",
    "        x_steps4[n] = x_steps4[n - 1] + 1\n",
    "\n",
    "    if x_Movement == -1: \n",
    "        x_steps4[n] = x_steps4[n - 1] + -1\n",
    "        \n",
    "    if y_Movement == 1:\n",
    "        y_steps4[n] = y_steps4[n - 1] + 1\n",
    "\n",
    "    if y_Movement == -1: \n",
    "        y_steps4[n] = y_steps4[n - 1] + -1\n",
    "    \n",
    "\n",
    "    "
   ]
  },
  {
   "cell_type": "code",
   "execution_count": 9,
   "id": "a8497b19",
   "metadata": {},
   "outputs": [
    {
     "data": {
      "image/png": "[encoded data removed]",
      "text/plain": [
       "<Figure size 432x288 with 4 Axes>"
      ]
     },
     "metadata": {
      "needs_background": "light"
     },
     "output_type": "display_data"
    }
   ],
   "source": [
    "plt.figure()\n",
    "\n",
    "plt.subplot(1,4,1);plt.plot(x_steps1, y_steps1,'ro');\n",
    "plt.axis('equal')\n",
    "\n",
    "\n",
    "plt.subplot(1,4,2);plt.plot(x_steps2, y_steps2,'go');\n",
    "plt.axis('equal')\n",
    "\n",
    "plt.subplot(1,4,3);plt.plot(x_steps3, y_steps3,'bo');\n",
    "plt.axis('equal')\n",
    "\n",
    "plt.subplot(1,4,4);plt.plot(x_steps4, y_steps4,'ko');\n",
    "plt.axis('equal')\n",
    "\n",
    "plt.suptitle(\"4 Random Walks\");\n",
    "\n",
    "plt.show()"
   ]
  },
  {
   "cell_type": "markdown",
   "id": "888b09bb",
   "metadata": {},
   "source": [
    "## 7.2 Plotting The Displacement Distribution"
   ]
  },
  {
   "cell_type": "markdown",
   "id": "7f42b99f",
   "metadata": {},
   "source": [
    "a."
   ]
  },
  {
   "cell_type": "code",
   "execution_count": 116,
   "id": "80ed0ba5",
   "metadata": {},
   "outputs": [],
   "source": [
    "def RandomWalk(numsteps):\n",
    "\n",
    "    x_steps = np.zeros(num_steps)\n",
    "    y_steps = np.zeros(num_steps)\n",
    "    count = 0\n",
    "\n",
    "    for n in range(num_steps):\n",
    "        x_Movement = 2*(rand(1) < 0.5) - 1\n",
    "        y_Movement = 2*(rand(1) < 0.5) - 1\n",
    "\n",
    "        if x_Movement == 1:\n",
    "            x_steps[n] = x_steps[n - 1] + 1\n",
    "\n",
    "        if x_Movement == -1: \n",
    "            x_steps[n] = x_steps[n - 1] + -1\n",
    "\n",
    "        if y_Movement == 1:\n",
    "            y_steps[n] = y_steps[n - 1] + 1\n",
    "\n",
    "        if y_Movement == -1: \n",
    "            y_steps[n] = y_steps[n - 1] + -1\n"
   ]
  },
  {
   "cell_type": "code",
   "execution_count": 117,
   "id": "f7b59acb",
   "metadata": {
    "scrolled": true
   },
   "outputs": [],
   "source": [
    "RandomWalk(1000)"
   ]
  },
  {
   "cell_type": "code",
   "execution_count": 127,
   "id": "9e17a60c",
   "metadata": {},
   "outputs": [
    {
     "ename": "IndexError",
     "evalue": "index 100 is out of bounds for axis 0 with size 100",
     "output_type": "error",
     "traceback": [
      "\u001b[1;31m---------------------------------------------------------------------------\u001b[0m",
      "\u001b[1;31mIndexError\u001b[0m                                Traceback (most recent call last)",
      "\u001b[1;32m~\\AppData\\Local\\Temp/ipykernel_4336/4036773823.py\u001b[0m in \u001b[0;36m<module>\u001b[1;34m\u001b[0m\n\u001b[0;32m     14\u001b[0m     \u001b[0mcount\u001b[0m \u001b[1;33m+=\u001b[0m \u001b[1;36m1\u001b[0m\u001b[1;33m\u001b[0m\u001b[1;33m\u001b[0m\u001b[0m\n\u001b[0;32m     15\u001b[0m \u001b[1;33m\u001b[0m\u001b[0m\n\u001b[1;32m---> 16\u001b[1;33m     \u001b[0my_final\u001b[0m\u001b[1;33m[\u001b[0m\u001b[0mcount\u001b[0m\u001b[1;33m]\u001b[0m \u001b[1;33m=\u001b[0m \u001b[0my_steps\u001b[0m\u001b[1;33m[\u001b[0m\u001b[1;33m-\u001b[0m\u001b[1;36m1\u001b[0m\u001b[1;33m]\u001b[0m\u001b[1;33m\u001b[0m\u001b[1;33m\u001b[0m\u001b[0m\n\u001b[0m\u001b[0;32m     17\u001b[0m     \u001b[0mcount\u001b[0m \u001b[1;33m+=\u001b[0m \u001b[1;36m1\u001b[0m\u001b[1;33m\u001b[0m\u001b[1;33m\u001b[0m\u001b[0m\n\u001b[0;32m     18\u001b[0m \u001b[1;33m\u001b[0m\u001b[0m\n",
      "\u001b[1;31mIndexError\u001b[0m: index 100 is out of bounds for axis 0 with size 100"
     ]
    }
   ],
   "source": [
    "num_steps = 1000\n",
    "num_walks = 100\n",
    "\n",
    "x_final = np.zeros(num_walks)\n",
    "y_final = np.zeros(num_walks)\n",
    "displacement = np.zeros(num_walks)\n",
    "count = 0\n",
    "\n",
    "for n in range(num_walks):\n",
    "    \n",
    "    RandomWalk(num_steps)\n",
    "\n",
    "    x_final[count] = x_steps[-1]\n",
    "    count += 1\n",
    "\n",
    "    y_final[count] = y_steps[-1]\n",
    "    count += 1\n",
    "\n",
    "    displacement[count] = np.sqrt(x_steps[-1]**2 + y_steps[-1]**2)\n",
    "    count += 1"
   ]
  },
  {
   "cell_type": "code",
   "execution_count": null,
   "id": "c6ec59e5",
   "metadata": {},
   "outputs": [],
   "source": [
    "num_steps = 1000\n",
    "num_walks = 1000\n",
    "\n",
    "x_final = np.zeros(num_walks)\n",
    "y_final = np.zeros(num_walks)\n",
    "displacement = np.zeros(num_walks)\n",
    "\n",
    "for n in range(num_walks):\n",
    "    count = 0\n",
    "    \n",
    "    RandomWalk(num_steps)\n",
    "\n",
    "    x_final[count] = x_steps[-1]\n",
    "    count += 1\n",
    "\n",
    "    y_final[count] = y_steps[-1]\n",
    "    count += 1\n",
    "\n",
    "    displacement[count] = np.sqrt(x_steps[-1]**2 + y_steps[-1]**2)\n",
    "    count += 1"
   ]
  },
  {
   "cell_type": "markdown",
   "id": "e8f08502",
   "metadata": {},
   "source": [
    "b."
   ]
  },
  {
   "cell_type": "code",
   "execution_count": 126,
   "id": "ea7e317f",
   "metadata": {},
   "outputs": [
    {
     "data": {
      "image/png": "[encoded data removed]",
      "text/plain": [
       "<Figure size 432x288 with 1 Axes>"
      ]
     },
     "metadata": {
      "needs_background": "light"
     },
     "output_type": "display_data"
    }
   ],
   "source": [
    "plt.hist(displacement);"
   ]
  },
  {
   "cell_type": "markdown",
   "id": "fa00beb9",
   "metadata": {},
   "source": [
    "c."
   ]
  },
  {
   "cell_type": "code",
   "execution_count": 124,
   "id": "ba57b91f",
   "metadata": {
    "scrolled": true
   },
   "outputs": [
    {
     "data": {
      "image/png": "[encoded data removed]",
      "text/plain": [
       "<Figure size 432x288 with 1 Axes>"
      ]
     },
     "metadata": {
      "needs_background": "light"
     },
     "output_type": "display_data"
    }
   ],
   "source": [
    "plt.hist(displacement**2);"
   ]
  },
  {
   "cell_type": "code",
   "execution_count": 94,
   "id": "f962d2c2",
   "metadata": {},
   "outputs": [
    {
     "ename": "SyntaxError",
     "evalue": "invalid syntax (Temp/ipykernel_4336/673927769.py, line 1)",
     "output_type": "error",
     "traceback": [
      "\u001b[1;36m  File \u001b[1;32m\"C:\\Users\\jassi\\AppData\\Local\\Temp/ipykernel_4336/673927769.py\"\u001b[1;36m, line \u001b[1;32m1\u001b[0m\n\u001b[1;33m    d.\u001b[0m\n\u001b[1;37m      ^\u001b[0m\n\u001b[1;31mSyntaxError\u001b[0m\u001b[1;31m:\u001b[0m invalid syntax\n"
     ]
    }
   ],
   "source": [
    "d."
   ]
  },
  {
   "cell_type": "code",
   "execution_count": 95,
   "id": "0128ca41",
   "metadata": {},
   "outputs": [
    {
     "name": "stderr",
     "output_type": "stream",
     "text": [
      "C:\\Users\\jassi\\anaconda3\\lib\\site-packages\\matplotlib_inline\\backend_inline.py:234: UserWarning: Data has no positive values, and therefore cannot be log-scaled.\n",
      "  for label in axis.get_ticklabels()])\n"
     ]
    },
    {
     "data": {
      "image/png": "[encoded data removed]",
      "text/plain": [
       "<Figure size 432x288 with 1 Axes>"
      ]
     },
     "metadata": {
      "needs_background": "light"
     },
     "output_type": "display_data"
    }
   ],
   "source": [
    "plt.semilogy(x_final,y_final,'go')\n",
    "\n",
    "plt.ylabel('y_final')\n",
    "plt.xlabel('x_final')\n",
    "plt.title('Random Walk')\n",
    "\n",
    "plt.show()"
   ]
  },
  {
   "cell_type": "code",
   "execution_count": 96,
   "id": "bcf2eef5",
   "metadata": {},
   "outputs": [
    {
     "name": "stderr",
     "output_type": "stream",
     "text": [
      "C:\\Users\\jassi\\anaconda3\\lib\\site-packages\\matplotlib_inline\\backend_inline.py:234: UserWarning: Data has no positive values, and therefore cannot be log-scaled.\n",
      "  for label in axis.get_ticklabels()])\n"
     ]
    },
    {
     "data": {
      "image/png": "[encoded data removed]",
      "text/plain": [
       "<Figure size 432x288 with 1 Axes>"
      ]
     },
     "metadata": {
      "needs_background": "light"
     },
     "output_type": "display_data"
    }
   ],
   "source": [
    "plt.loglog(x_final,y_final,'go')\n",
    "\n",
    "plt.ylabel('y_final')\n",
    "plt.xlabel('x_final')\n",
    "plt.title('Random Walk')\n",
    "\n",
    "plt.show()"
   ]
  },
  {
   "cell_type": "markdown",
   "id": "9194a7dd",
   "metadata": {},
   "source": [
    "e."
   ]
  },
  {
   "cell_type": "code",
   "execution_count": 133,
   "id": "6e4ac1b3",
   "metadata": {},
   "outputs": [
    {
     "data": {
      "text/plain": [
       "0.0"
      ]
     },
     "execution_count": 133,
     "metadata": {},
     "output_type": "execute_result"
    }
   ],
   "source": [
    "num_steps = 1000\n",
    "\n",
    "RandomWalk(num_steps)\n",
    "\n",
    "displacement = np.sqrt(x_steps**2 + y_steps**2)\n",
    "\n",
    "np.mean(displacement**2)"
   ]
  },
  {
   "cell_type": "markdown",
   "id": "777bc673",
   "metadata": {},
   "source": [
    "f."
   ]
  },
  {
   "cell_type": "code",
   "execution_count": 132,
   "id": "337ca1ac",
   "metadata": {},
   "outputs": [
    {
     "data": {
      "text/plain": [
       "0.0"
      ]
     },
     "execution_count": 132,
     "metadata": {},
     "output_type": "execute_result"
    }
   ],
   "source": [
    "num_steps = 4000\n",
    "\n",
    "RandomWalk(num_steps)\n",
    "\n",
    "displacement = np.sqrt(x_steps**2 + y_steps**2)\n",
    "\n",
    "np.mean(displacement**2)"
   ]
  },
  {
   "cell_type": "code",
   "execution_count": null,
   "id": "6fa40072",
   "metadata": {},
   "outputs": [],
   "source": []
  },
  {
   "cell_type": "code",
   "execution_count": null,
   "id": "4b74fcc7",
   "metadata": {},
   "outputs": [],
   "source": []
  }
 ],
 "metadata": {
  "kernelspec": {
   "display_name": "Python 3 (ipykernel)",
   "language": "python",
   "name": "python3"
  },
  "language_info": {
   "codemirror_mode": {
    "name": "ipython",
    "version": 3
   },
   "file_extension": ".py",
   "mimetype": "text/x-python",
   "name": "python",
   "nbconvert_exporter": "python",
   "pygments_lexer": "ipython3",
   "version": "3.9.7"
  }
 },
 "nbformat": 4,
 "nbformat_minor": 5
}
