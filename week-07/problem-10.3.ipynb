{
 "cells": [
  {
   "cell_type": "markdown",
   "id": "014e2bd5",
   "metadata": {},
   "source": [
    "# 10.3 RANDOM WALK WITH RANDOM WAITING TIMES\n",
    "\n",
    "Use this notebook to store your work for this problem."
   ]
  },
  {
   "cell_type": "code",
   "execution_count": 18,
   "id": "3bf8de34",
   "metadata": {},
   "outputs": [],
   "source": [
    "import numpy as np\n",
    "import matplotlib.pyplot as plt\n",
    "from numpy.random import default_rng\n",
    "rand = default_rng().random"
   ]
  },
  {
   "cell_type": "markdown",
   "id": "5610b9f6",
   "metadata": {},
   "source": [
    "## (a)"
   ]
  },
  {
   "cell_type": "code",
   "execution_count": 19,
   "id": "25dd5dae",
   "metadata": {},
   "outputs": [
    {
     "data": {
      "image/png": "[encoded data removed]",
      "text/plain": [
       "<Figure size 432x288 with 1 Axes>"
      ]
     },
     "metadata": {
      "needs_background": "light"
     },
     "output_type": "display_data"
    }
   ],
   "source": [
    "beta = 1\n",
    "N = 10**4\n",
    "u1 = rand(N)\n",
    "u2 = rand(N)\n",
    "y1 = -np.log(u1)\n",
    "y2 = -np.log(u2)\n",
    "t1 = y1/beta\n",
    "t2 = y2/beta\n",
    "\n",
    "# total elapsed time\n",
    "time1 = t1.cumsum()\n",
    "time2 = t2.cumsum()\n",
    "\n",
    "# probability of a step to the right\n",
    "xi = 0.5\n",
    "# step size\n",
    "deltaL = 10**-6\n",
    "# total duration\n",
    "cutoff = 400\n",
    "\n",
    "steps1 = (2*(rand(N) < xi) - 1) * deltaL\n",
    "steps2 = (2*(rand(N) < xi) - 1) * deltaL\n",
    "\n",
    "location1 = steps1.cumsum()\n",
    "location2 = steps2.cumsum()\n",
    "\n",
    "plt.plot(time1[time1<cutoff], location1[time1<cutoff], 'b-', time2[time2<cutoff], location2[time2<cutoff], 'g-' );"
   ]
  },
  {
   "cell_type": "markdown",
   "id": "377db16d",
   "metadata": {},
   "source": [
    "## (b)"
   ]
  },
  {
   "cell_type": "code",
   "execution_count": 27,
   "id": "9f51aa34",
   "metadata": {},
   "outputs": [
    {
     "name": "stdout",
     "output_type": "stream",
     "text": [
      "The sample mean is -8.399999999999994e-07 and the variance is 3.056144e-10\n"
     ]
    }
   ],
   "source": [
    "Simulations = 50\n",
    "\n",
    "beta = 1\n",
    "N = 10**4\n",
    "# probability of a step to the right\n",
    "xi = 0.5\n",
    "# step size\n",
    "deltaL = 10**-6\n",
    "# total duration\n",
    "cutoff = 400\n",
    "\n",
    "xT_final = np.zeros(Simulations)\n",
    "# Should always be close to 400\n",
    "time_final = np.zeros(Simulations)\n",
    "\n",
    "for i in range(Simulations):\n",
    "    u = rand(N)\n",
    "    y = -np.log(u)\n",
    "    t = y1/beta\n",
    "    \n",
    "    # total elapsed time\n",
    "    totaltime = t.cumsum()\n",
    "    \n",
    "    steps = (2*(rand(N) < xi) - 1) * deltaL\n",
    "    totalsteps = steps.cumsum()\n",
    "    \n",
    "    location = totalsteps[totaltime <= cutoff]\n",
    "    time = totaltime[totaltime <= cutoff]\n",
    "    \n",
    "    xT_final[i] = location[-1]\n",
    "    time_final[i] = time[-1]\n",
    "\n",
    "SampleMean = xT_final.mean()\n",
    "SampleVariance = xT_final.var()\n",
    "\n",
    "print('The sample mean is {} and the variance is {}'.format(SampleMean, SampleVariance))"
   ]
  },
  {
   "cell_type": "code",
   "execution_count": 28,
   "id": "8b3068a7",
   "metadata": {},
   "outputs": [
    {
     "name": "stdout",
     "output_type": "stream",
     "text": [
      "The sample mean is 1.7599999999999999e-06 and the variance is 2.0938240000000005e-10\n"
     ]
    }
   ],
   "source": [
    "Simulations = 50\n",
    "\n",
    "beta = 1\n",
    "N = 10**4\n",
    "# probability of a step to the right\n",
    "xi = 0.5\n",
    "# step size\n",
    "deltaL = 10**-6\n",
    "# total duration\n",
    "cutoff = 200\n",
    "\n",
    "xT_final = np.zeros(Simulations)\n",
    "# Should always be close to 400\n",
    "time_final = np.zeros(Simulations)\n",
    "\n",
    "for i in range(Simulations):\n",
    "    u = rand(N)\n",
    "    y = -np.log(u)\n",
    "    t = y1/beta\n",
    "    \n",
    "    # total elapsed time\n",
    "    totaltime = t.cumsum()\n",
    "    \n",
    "    steps = (2*(rand(N) < xi) - 1) * deltaL\n",
    "    totalsteps = steps.cumsum()\n",
    "    \n",
    "    location = totalsteps[totaltime <= cutoff]\n",
    "    time = totaltime[totaltime <= cutoff]\n",
    "    \n",
    "    xT_final[i] = location[-1]\n",
    "    time_final[i] = time[-1]\n",
    "\n",
    "SampleMean = xT_final.mean()\n",
    "SampleVariance = xT_final.var()\n",
    "\n",
    "print('The sample mean is {} and the variance is {}'.format(SampleMean, SampleVariance))"
   ]
  },
  {
   "cell_type": "code",
   "execution_count": 29,
   "id": "5083b9c1",
   "metadata": {},
   "outputs": [
    {
     "name": "stdout",
     "output_type": "stream",
     "text": [
      "The sample mean is -4.48e-06 and the variance is 6.372095999999996e-10\n"
     ]
    }
   ],
   "source": [
    "Simulations = 50\n",
    "\n",
    "beta = 1\n",
    "N = 10**4\n",
    "# probability of a step to the right\n",
    "xi = 0.5\n",
    "# step size\n",
    "deltaL = 10**-6\n",
    "# total duration\n",
    "cutoff = 600\n",
    "\n",
    "xT_final = np.zeros(Simulations)\n",
    "# Should always be close to 400\n",
    "time_final = np.zeros(Simulations)\n",
    "\n",
    "for i in range(Simulations):\n",
    "    u = rand(N)\n",
    "    y = -np.log(u)\n",
    "    t = y1/beta\n",
    "    \n",
    "    # total elapsed time\n",
    "    totaltime = t.cumsum()\n",
    "    \n",
    "    steps = (2*(rand(N) < xi) - 1) * deltaL\n",
    "    totalsteps = steps.cumsum()\n",
    "    \n",
    "    location = totalsteps[totaltime <= cutoff]\n",
    "    time = totaltime[totaltime <= cutoff]\n",
    "    \n",
    "    xT_final[i] = location[-1]\n",
    "    time_final[i] = time[-1]\n",
    "\n",
    "SampleMean = xT_final.mean()\n",
    "SampleVariance = xT_final.var()\n",
    "\n",
    "print('The sample mean is {} and the variance is {}'.format(SampleMean, SampleVariance))"
   ]
  },
  {
   "cell_type": "markdown",
   "id": "4deb8b4c",
   "metadata": {},
   "source": [
    "## (c)"
   ]
  },
  {
   "cell_type": "markdown",
   "id": "ff557e31",
   "metadata": {},
   "source": [
    "SampleMean = beta * L / T\n",
    "\n",
    "SampleVariance = beta / L*T"
   ]
  },
  {
   "cell_type": "markdown",
   "id": "88aef6f2",
   "metadata": {},
   "source": [
    "## (d)"
   ]
  },
  {
   "cell_type": "code",
   "execution_count": 32,
   "id": "1e29b033",
   "metadata": {},
   "outputs": [
    {
     "data": {
      "image/png": "[encoded data removed]",
      "text/plain": [
       "<Figure size 432x288 with 1 Axes>"
      ]
     },
     "metadata": {
      "needs_background": "light"
     },
     "output_type": "display_data"
    }
   ],
   "source": [
    "beta = 1\n",
    "N = 10**4\n",
    "# probability of a step to the right\n",
    "xi = 0.5\n",
    "# step size\n",
    "deltaL = 10**-6\n",
    "# total duration\n",
    "cutoff = 400\n",
    "\n",
    "u = rand(N)\n",
    "y = -np.log(u)\n",
    "t = y1/beta\n",
    "\n",
    "# total elapsed time\n",
    "time = t.cumsum()\n",
    "\n",
    "x_steps = (2*(rand(N) < xi) - 1) * deltaL\n",
    "y_steps = (2*(rand(N) < xi) - 1) * deltaL\n",
    "\n",
    "x_location = x_steps.cumsum()\n",
    "y_location = y_steps.cumsum()\n",
    "\n",
    "\n",
    "plt.plot(x_location[time < cutoff], y_location[time < cutoff], 'g-' );"
   ]
  },
  {
   "cell_type": "markdown",
   "id": "20866a49",
   "metadata": {},
   "source": [
    "## (e)"
   ]
  },
  {
   "cell_type": "code",
   "execution_count": 33,
   "id": "ba53306b",
   "metadata": {},
   "outputs": [
    {
     "ename": "NameError",
     "evalue": "name 'fig' is not defined",
     "output_type": "error",
     "traceback": [
      "\u001b[1;31m---------------------------------------------------------------------------\u001b[0m",
      "\u001b[1;31mNameError\u001b[0m                                 Traceback (most recent call last)",
      "\u001b[1;32m~\\AppData\\Local\\Temp/ipykernel_2768/3969372508.py\u001b[0m in \u001b[0;36m<module>\u001b[1;34m\u001b[0m\n\u001b[0;32m      1\u001b[0m \u001b[1;32mimport\u001b[0m \u001b[0mmatplotlib\u001b[0m\u001b[1;33m.\u001b[0m\u001b[0manimation\u001b[0m \u001b[1;32mas\u001b[0m \u001b[0mani\u001b[0m\u001b[1;33m\u001b[0m\u001b[1;33m\u001b[0m\u001b[0m\n\u001b[0;32m      2\u001b[0m \u001b[1;33m\u001b[0m\u001b[0m\n\u001b[1;32m----> 3\u001b[1;33m \u001b[0manimator\u001b[0m \u001b[1;33m=\u001b[0m \u001b[0mani\u001b[0m\u001b[1;33m.\u001b[0m\u001b[0mFuncAnimation\u001b[0m\u001b[1;33m(\u001b[0m\u001b[0mfig\u001b[0m\u001b[1;33m,\u001b[0m \u001b[0mchartfunc\u001b[0m\u001b[1;33m,\u001b[0m \u001b[0minterval\u001b[0m \u001b[1;33m=\u001b[0m \u001b[1;36m100\u001b[0m\u001b[1;33m)\u001b[0m\u001b[1;33m\u001b[0m\u001b[1;33m\u001b[0m\u001b[0m\n\u001b[0m",
      "\u001b[1;31mNameError\u001b[0m: name 'fig' is not defined"
     ]
    }
   ],
   "source": [
    "import matplotlib.animation as ani\n",
    "\n",
    "animator = ani.FuncAnimation(fig, chartfunc, interval = 100)"
   ]
  },
  {
   "cell_type": "code",
   "execution_count": null,
   "id": "10408c37",
   "metadata": {},
   "outputs": [],
   "source": []
  }
 ],
 "metadata": {
  "kernelspec": {
   "display_name": "Python 3 (ipykernel)",
   "language": "python",
   "name": "python3"
  },
  "language_info": {
   "codemirror_mode": {
    "name": "ipython",
    "version": 3
   },
   "file_extension": ".py",
   "mimetype": "text/x-python",
   "name": "python",
   "nbconvert_exporter": "python",
   "pygments_lexer": "ipython3",
   "version": "3.9.7"
  }
 },
 "nbformat": 4,
 "nbformat_minor": 5
}
