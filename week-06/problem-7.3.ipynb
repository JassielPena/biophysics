{
 "cells": [
  {
   "cell_type": "markdown",
   "id": "6313542d",
   "metadata": {},
   "source": [
    "# PROBLEM 7.3"
   ]
  },
  {
   "cell_type": "code",
   "execution_count": 1,
   "id": "3ce33e4e",
   "metadata": {},
   "outputs": [],
   "source": [
    "import numpy as np\n",
    "import matplotlib.pyplot as plt"
   ]
  },
  {
   "cell_type": "markdown",
   "id": "e0a07f59",
   "metadata": {},
   "source": [
    "## (a) Probability Distribution\n",
    "\n",
    "What model should we apply to this data set?  There are many possibilities, but let's start simple.  Choose a probability distribution that only has ***one*** adjustable parameter: $\\mu$.  What is $\\mathcal{P}(\\ell)$?"
   ]
  },
  {
   "cell_type": "markdown",
   "id": "321e48b3",
   "metadata": {},
   "source": [
    "$\\mathcal{P}(\\ell)$ = $\\mu$ * M \n",
    "\n",
    "Where M is the number of instances and $\\ell$ is the number of casualties"
   ]
  },
  {
   "cell_type": "markdown",
   "id": "333a4a97",
   "metadata": {},
   "source": [
    "## (b) Maximum Likelihood\n",
    "\n",
    "We now wish to compute the **likelihood** that the observed data came from a particular model of this form.  Using your model from (a), compute the probability of the data in the table.  This should be a function of the single paramter $\\mu$."
   ]
  },
  {
   "cell_type": "markdown",
   "id": "20c318a2",
   "metadata": {},
   "source": [
    "$\\mu$ = $\\ell$/M"
   ]
  },
  {
   "cell_type": "markdown",
   "id": "757777d3",
   "metadata": {},
   "source": [
    "Make a plot of your likelihood function for values of $\\mu$ from 0 to what seems large enough.  Comment on your plot."
   ]
  },
  {
   "cell_type": "code",
   "execution_count": 4,
   "id": "b27bcf35",
   "metadata": {},
   "outputs": [
    {
     "data": {
      "text/plain": [
       "[<matplotlib.lines.Line2D at 0x16edd5ef2b0>]"
      ]
     },
     "execution_count": 4,
     "metadata": {},
     "output_type": "execute_result"
    },
    {
     "data": {
      "image/png": "[encoded data removed]",
      "text/plain": [
       "<Figure size 432x288 with 1 Axes>"
      ]
     },
     "metadata": {
      "needs_background": "light"
     },
     "output_type": "display_data"
    }
   ],
   "source": [
    "l = [0, 1, 2, 3, 4, 5]\n",
    "M = [144, 91, 32, 11, 2, 0]\n",
    "\n",
    "plt.plot(l,M)"
   ]
  },
  {
   "cell_type": "markdown",
   "id": "df08a881",
   "metadata": {},
   "source": [
    "***Replace with your comments.***"
   ]
  },
  {
   "cell_type": "markdown",
   "id": "98335cb9",
   "metadata": {},
   "source": [
    "To keep the numbers manageable for a computer, we often focus on the **log likelihood** instead of the likelihood.  Compute the log likelihood analytically — i.e., derive a formula for it — as a function of $\\mu$."
   ]
  },
  {
   "cell_type": "markdown",
   "id": "d82ecd8c",
   "metadata": {},
   "source": [
    "***Replace with your work.***"
   ]
  },
  {
   "cell_type": "markdown",
   "id": "97d0f1f8",
   "metadata": {},
   "source": [
    "Make a plot of your log likelihood function for values of $\\mu$ from 0 to what seems large enough.  Comment on your plot."
   ]
  },
  {
   "cell_type": "code",
   "execution_count": null,
   "id": "dcd1e5d5",
   "metadata": {},
   "outputs": [],
   "source": []
  },
  {
   "cell_type": "markdown",
   "id": "ce0d7d16",
   "metadata": {},
   "source": [
    "***Replace with your comments.***"
   ]
  },
  {
   "cell_type": "markdown",
   "id": "1e1d04e7",
   "metadata": {},
   "source": [
    "Use your plot or calculus to find the value of $\\mu$ that maximizes the likelihood of the data set."
   ]
  },
  {
   "cell_type": "markdown",
   "id": "166d779e",
   "metadata": {},
   "source": [
    "***Replace with your work.***"
   ]
  },
  {
   "cell_type": "code",
   "execution_count": null,
   "id": "29816fa5",
   "metadata": {},
   "outputs": [],
   "source": []
  },
  {
   "cell_type": "markdown",
   "id": "7a3d2014",
   "metadata": {},
   "source": [
    "## (c) Comparison\n",
    "\n",
    "Make a plot of the data, along with the prediction of your model using your optimal value of $\\mu$.  Comment on the result.  Does this look like a good fit?  Did we choose the right model for the data?"
   ]
  },
  {
   "cell_type": "code",
   "execution_count": null,
   "id": "379d35c9",
   "metadata": {},
   "outputs": [],
   "source": []
  },
  {
   "cell_type": "markdown",
   "id": "4612584a",
   "metadata": {},
   "source": [
    "***Replace with your comments.***"
   ]
  },
  {
   "cell_type": "markdown",
   "id": "b9e1969a",
   "metadata": {},
   "source": [
    "## (d) Confidence Interval\n",
    "\n",
    "We computed a single value of $\\mu_*$ for the data set, but it is better to report a range of values.\n",
    "\n",
    "You should be able to express your likelihood function as $f(\\mu)$.  We wish to find a range $\\Delta$ so that 90 percent of the likelihood occurs for $$\\mu_* - \\Delta < \\mu < \\mu_* + \\Delta$$.  That is, we wish to find $\\Delta$ such that\n",
    "$$ \\dfrac{ \\int_{\\mu_* - \\Delta}^{\\mu_* + \\Delta} d\\mu \\, f(\\mu) }{ \\int_{0}^{\\infty} d\\mu \\, f(\\mu) } = 0.9 $$\n",
    "\n",
    "One way to do the integrals is numerically.  Create a finely spaced array of $\\mu$ values and replace the integrals by Reimann sums.  You can also read about integration methods in Section 6.7 of _A Student's Guide to Python_ and use these methods.  You can work with a pencil and paper if you prefer.\n",
    "\n",
    "Whatever method you choose, report your credible interval for $\\mu$."
   ]
  },
  {
   "cell_type": "code",
   "execution_count": null,
   "id": "0aff0cf6",
   "metadata": {},
   "outputs": [],
   "source": []
  },
  {
   "cell_type": "markdown",
   "id": "f57eda03",
   "metadata": {},
   "source": [
    "***Report your credible interval for $\\mu$.***"
   ]
  },
  {
   "cell_type": "markdown",
   "id": "b90ef97f",
   "metadata": {},
   "source": [
    "***Use this space for comments.***"
   ]
  }
 ],
 "metadata": {
  "kernelspec": {
   "display_name": "Python 3 (ipykernel)",
   "language": "python",
   "name": "python3"
  },
  "language_info": {
   "codemirror_mode": {
    "name": "ipython",
    "version": 3
   },
   "file_extension": ".py",
   "mimetype": "text/x-python",
   "name": "python",
   "nbconvert_exporter": "python",
   "pygments_lexer": "ipython3",
   "version": "3.9.7"
  }
 },
 "nbformat": 4,
 "nbformat_minor": 5
}
