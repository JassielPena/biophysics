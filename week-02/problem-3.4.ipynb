{
 "cells": [
  {
   "cell_type": "markdown",
   "id": "5412ca32",
   "metadata": {},
   "source": [
    "# Problem 3.4\n",
    "\n",
    "This problem explores the \"Gambler's Fallacy\" --- the idea that after a string of losses, you are \"due\" for a win.\n",
    "\n",
    "We will represent __heads__ by $+1$ and __tails__ by $-1$.  The variable $X$ is the sum of ten such flips of a coin: the number of heads minus the number of tails."
   ]
  },
  {
   "cell_type": "code",
   "execution_count": 2,
   "id": "8248ee95",
   "metadata": {},
   "outputs": [],
   "source": [
    "# Standard setup\n",
    "import numpy as np\n",
    "import matplotlib.pyplot as plt\n",
    "\n",
    "# Get a random number generator.\n",
    "from numpy.random import default_rng\n",
    "rng = default_rng()\n",
    "rand = rng.random"
   ]
  },
  {
   "cell_type": "markdown",
   "id": "9efb4a03",
   "metadata": {},
   "source": [
    "Verify that the following code generates a sequence of 10 flips, as described in the problem.  Briefly explain how it works.\n",
    "\n",
    "-----"
   ]
  },
  {
   "cell_type": "code",
   "execution_count": 3,
   "id": "0bfd145a",
   "metadata": {},
   "outputs": [
    {
     "name": "stdout",
     "output_type": "stream",
     "text": [
      "Coin flips:  [ 1 -1 -1 -1 -1 -1 -1  1  1  1]\n",
      "Sum: X= -2\n"
     ]
    }
   ],
   "source": [
    "flips = 2*(rand(10) < 0.5) - 1\n",
    "X = flips.sum()\n",
    "\n",
    "print(\"Coin flips: \", flips)\n",
    "print(\"Sum: X=\", X)"
   ]
  },
  {
   "cell_type": "markdown",
   "id": "a06734d6",
   "metadata": {},
   "source": [
    "flips returns an array with 10 elements each either 1 or -1"
   ]
  },
  {
   "cell_type": "markdown",
   "id": "034186de",
   "metadata": {},
   "source": [
    "------\n",
    "\n",
    "## (a)\n",
    "\n",
    "Fill in the necessary Python code below."
   ]
  },
  {
   "cell_type": "code",
   "execution_count": 4,
   "id": "62ca501f",
   "metadata": {},
   "outputs": [
    {
     "name": "stdout",
     "output_type": "stream",
     "text": [
      "There were 5 trials that started with 5 heads.\n",
      "The average of X for these trials was <X>= 5.2000.\n"
     ]
    }
   ],
   "source": [
    "# Define the problem.\n",
    "Ntrials = 200\n",
    "Nflips = 10\n",
    "Nstart = 5\n",
    "\n",
    "# Create an array to store the data we want.\n",
    "data = np.zeros(Ntrials)\n",
    "count = 0\n",
    "\n",
    "# Generate Ntrials sequences of Nflips coin flips, and sum.\n",
    "for n in range(Ntrials):\n",
    "    flips = 2*(rand(Nflips) < 0.5) - 1\n",
    "    X = flips.sum()\n",
    "    \n",
    "    # Replace \"if True:\" with a conditional statement that will do the following.\n",
    "    #    IF the first Nstart flips are heads, store X in \"data\" and increment \"count\".\n",
    "    #    OTHERWISE, do nothing and continue to the next trial.\n",
    "    if sum(flips[:5]) == 5:\n",
    "        data[count] = X\n",
    "        count += 1\n",
    "\n",
    "# Now use the data set to answer the question.\n",
    "if count == 0:\n",
    "    print(\"No trials started with {} heads.\".format(Nstart))\n",
    "else:\n",
    "    avgX = data[:count].sum() / count\n",
    "    print (\"There were {} trials that started with {} heads.\".format(count,Nstart))\n",
    "    print(\"The average of X for these trials was <X>= {:.4f}.\".format(avgX))\n"
   ]
  },
  {
   "cell_type": "markdown",
   "id": "a568067f",
   "metadata": {},
   "source": [
    "Run your code several times.  What patterns do you observe?\n",
    "\n",
    "-----"
   ]
  },
  {
   "cell_type": "markdown",
   "id": "c021f245",
   "metadata": {},
   "source": [
    "It looks like the average of X is around 5. This suggests to me that after the first five flips the chances of getting heads or tails is still .5. If the gambler's fallacy was correct then we would expect a average closer to 0."
   ]
  },
  {
   "cell_type": "markdown",
   "id": "d0a59d2d",
   "metadata": {},
   "source": [
    "-----\n",
    "\n",
    "## (b)\n",
    "\n",
    "Repeat for `Ntrials = 2000` and `Ntrials = 8000`.\n",
    "\n",
    "> Does the answer seem to be converging to zero, as predicted in the quoted text above? Whatever your answer, give some explanation for why the answer you found should have been expected.\n",
    "\n",
    "-----"
   ]
  },
  {
   "cell_type": "code",
   "execution_count": 20,
   "id": "c4ec7e59",
   "metadata": {},
   "outputs": [
    {
     "name": "stdout",
     "output_type": "stream",
     "text": [
      "For 200 number of trials\n",
      "There were 8 trials that started with 5 heads.\n",
      "The average of X for these trials was <X>= 5.0000.\n",
      "For 2000 number of trials\n",
      "There were 49 trials that started with 5 heads.\n",
      "The average of X for these trials was <X>= 4.7755.\n",
      "For 8000 number of trials\n",
      "There were 249 trials that started with 5 heads.\n",
      "The average of X for these trials was <X>= 5.0763.\n"
     ]
    }
   ],
   "source": [
    "# Define the problem.\n",
    "Ntrials_list = [200, 2000, 8000]\n",
    "Nflips = 10\n",
    "Nstart = 5\n",
    "\n",
    "\n",
    "for n in Ntrials_list:\n",
    "    # Create an array to store the data we want.\n",
    "    Ntrials = n\n",
    "    data = np.zeros(Ntrials)\n",
    "    count = 0\n",
    "    \n",
    "     # Generate Ntrials sequences of Nflips coin flips, and sum.\n",
    "    for n in range(Ntrials): \n",
    "        flips = 2*(rand(Nflips) < 0.5) - 1\n",
    "        X = flips.sum()\n",
    "\n",
    "        # Replace \"if True:\" with a conditional statement that will do the following.\n",
    "        #    IF the first Nstart flips are heads, store X in \"data\" and increment \"count\".\n",
    "        #    OTHERWISE, do nothing and continue to the next trial.\n",
    "        if sum(flips[:5]) == 5:\n",
    "            data[count] = X\n",
    "            count += 1\n",
    "\n",
    "    # Now use the data set to answer the question.\n",
    "    if count == 0:\n",
    "        print(\"No trials started with {} heads.\".format(Nstart))\n",
    "    else:\n",
    "        avgX = data[:count].sum() / count\n",
    "        print (\"For {} number of trials\".format(Ntrials))\n",
    "        print (\"There were {} trials that started with {} heads.\".format(count,Nstart))\n",
    "        print(\"The average of X for these trials was <X>= {:.4f}.\".format(avgX))\n"
   ]
  },
  {
   "cell_type": "markdown",
   "id": "39fe4cef",
   "metadata": {},
   "source": [
    "The answer seems to converge around 5 rather than 0. This is what we should expect given that the odds of heads and tails is always .5 for each next flip. If we did not only look at cases where the first 5 flips where heads then we would expect the value to converge around 0, you would expect an equal amount of heads and tails. However, the data we are looking at selects only sets where the first 5 are heads, meaning the sum of these first five is 5. This makes our data skewed. The flips after the first five come to a sum close to zero, meaning they are not changing the initial value we start with."
   ]
  },
  {
   "cell_type": "markdown",
   "id": "86ce2eec",
   "metadata": {},
   "source": [
    "-----\n",
    "\n",
    "## (c)\n",
    "\n",
    "Explore regression to the mean, as described in the problem text."
   ]
  },
  {
   "cell_type": "code",
   "execution_count": 22,
   "id": "aa170fae",
   "metadata": {},
   "outputs": [
    {
     "name": "stdout",
     "output_type": "stream",
     "text": [
      "For 10 flips\n",
      "There were 1597 trials that started with 5 heads.\n",
      "The average of X for these trials was <X>= 5.0307.\n",
      "For 100 flips\n",
      "There were 1570 trials that started with 5 heads.\n",
      "The average of X for these trials was <X>= 4.6191.\n",
      "For 500 flips\n",
      "There were 1544 trials that started with 5 heads.\n",
      "The average of X for these trials was <X>= 5.2461.\n",
      "For 2500 flips\n",
      "There were 1520 trials that started with 5 heads.\n",
      "The average of X for these trials was <X>= 5.6816.\n"
     ]
    }
   ],
   "source": [
    "# Define the problem.\n",
    "Ntrials = 50000\n",
    "Nflips_list = [10,100, 500, 2500]\n",
    "Nstart = 5\n",
    "\n",
    "for n in Nflips_list:\n",
    "    # Create an array to store the data we want.\n",
    "    Nflips = n \n",
    "    data = np.zeros(Ntrials)\n",
    "    count = 0\n",
    "\n",
    "    # Generate Ntrials sequences of Nflips coin flips, and sum.\n",
    "    for n in range(Ntrials): \n",
    "        flips = 2*(rand(Nflips) < 0.5) - 1\n",
    "        X = flips.sum()\n",
    "\n",
    "        # Replace \"if True:\" with a conditional statement that will do the following.\n",
    "        #    IF the first Nstart flips are heads, store X in \"data\" and increment \"count\".\n",
    "        #    OTHERWISE, do nothing and continue to the next trial.\n",
    "        if sum(flips[:5]) == 5:\n",
    "            data[count] = X\n",
    "            count += 1\n",
    "\n",
    "    # Now use the data set to answer the question.\n",
    "    if count == 0:\n",
    "        print(\"No trials started with {} heads.\".format(Nstart))\n",
    "    else:\n",
    "        avgX = data[:count].sum() / count\n",
    "        print (\"For {} flips\".format(Nflips))\n",
    "        print (\"There were {} trials that started with {} heads.\".format(count,Nstart))\n",
    "        print(\"The average of X for these trials was <X>= {:.4f}.\".format(avgX))"
   ]
  },
  {
   "cell_type": "markdown",
   "id": "2d3b3ac6",
   "metadata": {},
   "source": [
    "Comment on your observations.\n",
    "\n",
    "-----"
   ]
  },
  {
   "cell_type": "markdown",
   "id": "4a59cb3c",
   "metadata": {},
   "source": [
    "The average of the sums is still not converging around 0, but looks like they do converge aroound 5. This suggests that the rest of flips (after the initial 5) appear to be even or close to even. The closer the value is to 5 then the data is more evenly spread."
   ]
  },
  {
   "cell_type": "markdown",
   "id": "ae008467",
   "metadata": {},
   "source": [
    "-----\n",
    "\n",
    "## (d)\n",
    "\n",
    "Evaluate the ___spread___ of $X$ for large numbers of trials, as described in the text."
   ]
  },
  {
   "cell_type": "code",
   "execution_count": 24,
   "id": "bfbc55ba",
   "metadata": {},
   "outputs": [
    {
     "name": "stdout",
     "output_type": "stream",
     "text": [
      "For 10 flips\n",
      "There were 1621 trials that started with 5 heads.\n",
      "The average of X for these trials was <X>= 5.0833.\n",
      "The spread for X = -2.0000 +/- 0.0000\n",
      "For 100 flips\n",
      "There were 1584 trials that started with 5 heads.\n",
      "The average of X for these trials was <X>= 4.8838.\n",
      "The spread for X = -14.0000 +/- 0.0000\n",
      "For 500 flips\n",
      "There were 1525 trials that started with 5 heads.\n",
      "The average of X for these trials was <X>= 4.5390.\n",
      "The spread for X = 12.0000 +/- 0.0000\n",
      "For 2500 flips\n",
      "There were 1589 trials that started with 5 heads.\n",
      "The average of X for these trials was <X>= 4.5035.\n",
      "The spread for X = -10.0000 +/- 0.0000\n"
     ]
    }
   ],
   "source": [
    "# Define the problem.\n",
    "Ntrials = 50000\n",
    "Nflips_list = [10,100, 500, 2500]\n",
    "Nstart = 5\n",
    "\n",
    "for n in Nflips_list:\n",
    "    # Create an array to store the data we want.\n",
    "    Nflips = n \n",
    "    data = np.zeros(Ntrials)\n",
    "    count = 0\n",
    "\n",
    "    # Generate Ntrials sequences of Nflips coin flips, and sum.\n",
    "    for n in range(Ntrials): \n",
    "        flips = 2*(rand(Nflips) < 0.5) - 1\n",
    "        X = flips.sum()\n",
    "\n",
    "        # Replace \"if True:\" with a conditional statement that will do the following.\n",
    "        #    IF the first Nstart flips are heads, store X in \"data\" and increment \"count\".\n",
    "        #    OTHERWISE, do nothing and continue to the next trial.\n",
    "        if sum(flips[:5]) == 5:\n",
    "            data[count] = X\n",
    "            count += 1\n",
    "\n",
    "    # Now use the data set to answer the question.\n",
    "    if count == 0:\n",
    "        print(\"No trials started with {} heads.\".format(Nstart))\n",
    "    else:\n",
    "        avgX = data[:count].sum() / count\n",
    "        print (\"For {} flips\".format(Nflips))\n",
    "        print (\"There were {} trials that started with {} heads.\".format(count,Nstart))\n",
    "        print(\"The average of X for these trials was <X>= {:.4f}.\".format(avgX))\n",
    "        print(\"The spread for X = {:.4f} +/- {:.4f}\".format(X.mean(),X.std()))\n",
    "\n",
    "\n"
   ]
  },
  {
   "cell_type": "markdown",
   "id": "365cdafe",
   "metadata": {},
   "source": [
    "Comment on your observations.\n",
    "\n",
    "-----"
   ]
  },
  {
   "cell_type": "markdown",
   "id": "735adef2",
   "metadata": {},
   "source": []
  },
  {
   "cell_type": "markdown",
   "id": "a87f68ee",
   "metadata": {},
   "source": [
    "_____\n",
    "\n",
    "## (e)\n",
    "\n",
    "Discuss which proposition better describes your findings.\n",
    "\n",
    "> If the first N flips are heads, the next series flips will be more than half tails, in order to pull X closer to zero, because X ‘wants’ to be zero on average.\n",
    "\n",
    "... or ...\n",
    "\n",
    "> The effect of unusual past behavior doesn’t disappear; it just gets diluted as time goes on.\n",
    "\n",
    "-----"
   ]
  },
  {
   "cell_type": "markdown",
   "id": "b6261c64",
   "metadata": {},
   "source": [
    "The second statement better describes the results found. If X wanted to be closer to 0 then we would expect the average to get closer to 0, especially as the sample size increases but instead we found that the average value of X stays around 5. With smaller sample sizes then you might see an example of the first statement being true but that would most likely be an outlier since the tests ran show that is not true when the sample size is large."
   ]
  },
  {
   "cell_type": "code",
   "execution_count": null,
   "id": "286ae82d",
   "metadata": {},
   "outputs": [],
   "source": []
  }
 ],
 "metadata": {
  "kernelspec": {
   "display_name": "Python 3 (ipykernel)",
   "language": "python",
   "name": "python3"
  },
  "language_info": {
   "codemirror_mode": {
    "name": "ipython",
    "version": 3
   },
   "file_extension": ".py",
   "mimetype": "text/x-python",
   "name": "python",
   "nbconvert_exporter": "python",
   "pygments_lexer": "ipython3",
   "version": "3.9.7"
  }
 },
 "nbformat": 4,
 "nbformat_minor": 5
}
